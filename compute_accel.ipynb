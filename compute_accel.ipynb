{
 "cells": [
  {
   "cell_type": "code",
   "execution_count": 5,
   "metadata": {},
   "outputs": [
    {
     "name": "stdout",
     "output_type": "stream",
     "text": [
      "[0.5  0.25]\n"
     ]
    }
   ],
   "source": [
    "# compute acceleration 方法 demo\n",
    "\n",
    "import torch\n",
    "import numpy as np\n",
    "\n",
    "'''\n",
    "- joints 数组的大小为: N*21*2\n",
    "    - N 表示所有测试集视频总共的帧数\n",
    "    - 21 表示每帧中有 21 个关键点坐标\n",
    "    - 2 表示关键点坐标 x 和 y\n",
    "\n",
    "- 返回的加速度 accel 数组的大小为: N-2\n",
    "\n",
    "- compute_accel 方法只需要结合 pred 关键点计算\n",
    "\n",
    "- source code: https://github.com/akanazawa/human_dynamics/blob/0887f37464/src/evaluation/eval_util.py\n",
    "'''\n",
    "\n",
    "joints = np.array([[[1, 2], [3, 4], [5, 6], [7, 8]], [[3, 4], [5, 6], [7, 8], [9, 11]], [[5, 6], [7, 8], [9, 10], [11, 12]], [[7, 8], [9, 10], [11, 12], [13, 14]]])\n",
    "\n",
    "def compute_accel(joints):\n",
    "    \"\"\"\n",
    "    Computes acceleration of 3D joints.\n",
    "    Args:\n",
    "        joints (Nx25x3).\n",
    "    Returns:\n",
    "        Accelerations (N-2).\n",
    "    \"\"\"\n",
    "    velocities = joints[1:] - joints[:-1]\n",
    "    acceleration = velocities[1:] - velocities[:-1]\n",
    "    acceleration_normed = np.linalg.norm(acceleration, axis=2)\n",
    "    return np.mean(acceleration_normed, axis=1)\n",
    "\n",
    "accel = compute_accel(joints)\n",
    "print(accel)"
   ]
  }
 ],
 "metadata": {
  "kernelspec": {
   "display_name": "Python 3.7.13 ('my_env')",
   "language": "python",
   "name": "python3"
  },
  "language_info": {
   "codemirror_mode": {
    "name": "ipython",
    "version": 3
   },
   "file_extension": ".py",
   "mimetype": "text/x-python",
   "name": "python",
   "nbconvert_exporter": "python",
   "pygments_lexer": "ipython3",
   "version": "3.7.13"
  },
  "orig_nbformat": 4,
  "vscode": {
   "interpreter": {
    "hash": "dfe586b9d7864ba3e4264622bc2b1a378a49721f9561084f849ca2c6573a7ceb"
   }
  }
 },
 "nbformat": 4,
 "nbformat_minor": 2
}
