{
 "cells": [
  {
   "cell_type": "code",
   "execution_count": 1,
   "metadata": {},
   "outputs": [
    {
     "name": "stdout",
     "output_type": "stream",
     "text": [
      "[1. 0.]\n"
     ]
    }
   ],
   "source": [
    "# compute acceleration error 方法 demo\n",
    "\n",
    "import torch\n",
    "import numpy as np\n",
    "\n",
    "'''\n",
    "- joints_gt 和 joints_pred 数组的大小为: N*21*2\n",
    "    - N 表示所有测试集视频总共的帧数\n",
    "    - 21 表示每帧中有 21 个关键点坐标\n",
    "    - 2 表示关键点坐标 x 和 y\n",
    "\n",
    "- 返回的加速度误差 accel_error 数组的大小为: N-2\n",
    "\n",
    "- compute_accel_error 方法需要结合 gt 关键点和 pred 关键点计算\n",
    "\n",
    "- source code: https://github.com/akanazawa/human_dynamics/blob/0887f37464/src/evaluation/eval_util.py\n",
    "'''\n",
    "\n",
    "joints_gt = np.array([[[1, 2], [3, 8], [5, 6], [7, 8]], [[3, 4], [5, 6], [7, 8], [9, 11]], [[5, 6], [7, 8], [9, 10], [11, 12]], [[5, 6], [7, 8], [9, 10], [11, 12]]])\n",
    "joints_pred = np.array([[[1, 2], [3, 4], [5, 6], [7, 8]], [[3, 4], [5, 6], [7, 8], [9, 11]], [[5, 6], [7, 8], [9, 10], [11, 12]], [[5, 6], [7, 8], [9, 10], [11, 12]]])\n",
    "\n",
    "def compute_error_accel(joints_gt, joints_pred, vis=None):\n",
    "    \"\"\"\n",
    "    Computes acceleration error:\n",
    "        1/(n-2) \\sum_{i=1}^{n-1} X_{i-1} - 2X_i + X_{i+1}\n",
    "    Note that for each frame that is not visible, three entries in the\n",
    "    acceleration error should be zero'd out.\n",
    "    Args:\n",
    "        joints_gt (Nx14x3).\n",
    "        joints_pred (Nx14x3).\n",
    "        vis (N).\n",
    "    Returns:\n",
    "        error_accel (N-2).\n",
    "    \"\"\"\n",
    "    # (N-2)x14x3\n",
    "    accel_gt = joints_gt[:-2] - 2 * joints_gt[1:-1] + joints_gt[2:]\n",
    "    accel_pred = joints_pred[:-2] - 2 * joints_pred[1:-1] + joints_pred[2:]\n",
    "\n",
    "    normed = np.linalg.norm(accel_pred - accel_gt, axis=2)\n",
    "\n",
    "    if vis is None:\n",
    "        new_vis = np.ones(len(normed), dtype=bool)\n",
    "    else:\n",
    "        invis = np.logical_not(vis)\n",
    "        invis1 = np.roll(invis, -1)\n",
    "        invis2 = np.roll(invis, -2)\n",
    "        new_invis = np.logical_or(invis, np.logical_or(invis1, invis2))[:-2]\n",
    "        new_vis = np.logical_not(new_invis)\n",
    "\n",
    "    return np.mean(normed[new_vis], axis=1)\n",
    "\n",
    "accel_error = compute_error_accel(joints_gt, joints_pred)\n",
    "print(accel_error)"
   ]
  }
 ],
 "metadata": {
  "kernelspec": {
   "display_name": "Python 3.7.13 ('my_env')",
   "language": "python",
   "name": "python3"
  },
  "language_info": {
   "codemirror_mode": {
    "name": "ipython",
    "version": 3
   },
   "file_extension": ".py",
   "mimetype": "text/x-python",
   "name": "python",
   "nbconvert_exporter": "python",
   "pygments_lexer": "ipython3",
   "version": "3.7.13"
  },
  "orig_nbformat": 4,
  "vscode": {
   "interpreter": {
    "hash": "dfe586b9d7864ba3e4264622bc2b1a378a49721f9561084f849ca2c6573a7ceb"
   }
  }
 },
 "nbformat": 4,
 "nbformat_minor": 2
}
